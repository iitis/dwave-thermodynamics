{
 "cells": [
  {
   "cell_type": "markdown",
   "source": [
    "## Due to large filesize, we couldn't store it here. Raw Data in csv format can be found on Google Drive [here](https://drive.google.com/drive/folders/1IqdX1VnUJQNy-cAO9TWE1Y9Np7NEbwZu?usp=sharing)"
   ],
   "metadata": {
    "collapsed": false,
    "pycharm": {
     "name": "#%% md\n"
    }
   }
  }
 ],
 "metadata": {
  "kernelspec": {
   "display_name": "Python 3",
   "language": "python",
   "name": "python3"
  },
  "language_info": {
   "codemirror_mode": {
    "name": "ipython",
    "version": 2
   },
   "file_extension": ".py",
   "mimetype": "text/x-python",
   "name": "python",
   "nbconvert_exporter": "python",
   "pygments_lexer": "ipython2",
   "version": "2.7.6"
  }
 },
 "nbformat": 4,
 "nbformat_minor": 0
}